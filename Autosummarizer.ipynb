{
 "cells": [
  {
   "cell_type": "code",
   "execution_count": 1,
   "metadata": {
    "collapsed": true
   },
   "outputs": [],
   "source": [
    "from nltk.tokenize import word_tokenize,sent_tokenize\n",
    "from nltk.corpus import stopwords"
   ]
  },
  {
   "cell_type": "code",
   "execution_count": 2,
   "metadata": {
    "collapsed": false
   },
   "outputs": [],
   "source": [
    "from collections import defaultdict"
   ]
  },
  {
   "cell_type": "code",
   "execution_count": 3,
   "metadata": {
    "collapsed": false
   },
   "outputs": [],
   "source": [
    "from string import punctuation"
   ]
  },
  {
   "cell_type": "code",
   "execution_count": 4,
   "metadata": {
    "collapsed": true
   },
   "outputs": [],
   "source": [
    "from heapq import nlargest"
   ]
  },
  {
   "cell_type": "code",
   "execution_count": 5,
   "metadata": {
    "collapsed": true
   },
   "outputs": [],
   "source": [
    "class FrequencySummarizer:\n",
    "    def __init__(self,min_cut=0.1,max_cut=0.9):\n",
    "        self._min_cut = min_cut\n",
    "        self._max_cut = max_cut\n",
    "        self._stopwords = set(stopwords.words('english')+list(punctuation))\n",
    "    \n",
    "    def _compute_frequencies(self,word_sent):\n",
    "        freq = defaultdict(int)\n",
    "        for sentence in word_sent:\n",
    "            for words in sentence:\n",
    "                if words not in self._stopwords:\n",
    "                    freq[words] = freq[words] + 1\n",
    "        max_freq = float(max(freq.values()))\n",
    "        for word in freq.keys():\n",
    "            freq[word] = freq[word]/max_freq\n",
    "            if freq[word] >=self._max_cut or freq[word] <= self._min_cut:\n",
    "                pass\n",
    "        return freq\n",
    "    \n",
    "    def summarize(self,text,n):\n",
    "        sents = sent_tokenize(text)\n",
    "        assert n<= len(sents)\n",
    "        word_sent = [word_tokenize(s.lower()) for s in sents]\n",
    "        self._freq = self._compute_frequencies(word_sent)\n",
    "        ranking = defaultdict(int)\n",
    "        for i,sent in enumerate(word_sent):\n",
    "            for word in sent:\n",
    "                if word in self._freq:\n",
    "                    ranking[i] += self._freq[word]\n",
    "        sents_idx = nlargest(n,ranking,key=ranking.get)\n",
    "        return [sents[j] for j in sents_idx]\n",
    "\n",
    "    def _rank(self, ranking, n):\n",
    "        return nlargest(n, ranking, key=ranking.get)"
   ]
  },
  {
   "cell_type": "code",
   "execution_count": 6,
   "metadata": {
    "collapsed": false
   },
   "outputs": [],
   "source": [
    "from urllib.request import urlopen\n",
    "from bs4 import BeautifulSoup"
   ]
  },
  {
   "cell_type": "code",
   "execution_count": 7,
   "metadata": {
    "collapsed": false
   },
   "outputs": [],
   "source": [
    "def get_only_washingtpost_url(url):\n",
    "    page = urlopen(url).read().decode('utf8')\n",
    "    soup = BeautifulSoup(page)\n",
    "    text = ' '.join(map(lambda p:p.text,soup.find_all('article')))\n",
    "    soup2 = BeautifulSoup(text)\n",
    "    text = ' '.join(map(lambda p:p.text,soup2.find_all('p')))\n",
    "    return soup.title.text, text"
   ]
  },
  {
   "cell_type": "code",
   "execution_count": 8,
   "metadata": {
    "collapsed": false
   },
   "outputs": [
    {
     "name": "stderr",
     "output_type": "stream",
     "text": [
      "C:\\Users\\achu\\Anaconda3\\lib\\site-packages\\bs4\\__init__.py:166: UserWarning: No parser was explicitly specified, so I'm using the best available HTML parser for this system (\"lxml\"). This usually isn't a problem, but if you run this code on another system, or in a different virtual environment, it may use a different parser and behave differently.\n",
      "\n",
      "To get rid of this warning, change this:\n",
      "\n",
      " BeautifulSoup([your markup])\n",
      "\n",
      "to this:\n",
      "\n",
      " BeautifulSoup([your markup], \"lxml\")\n",
      "\n",
      "  markup_type=markup_type))\n"
     ]
    }
   ],
   "source": [
    "someUrl  = 'https://www.washingtonpost.com/news/arts-and-entertainment/wp/2017/07/17/game-of-thrones-recap-a-return-to-dragonstone-and-a-question-of-alliances/?hpid=hp_no-name_hp-in-the-news%3Apage%2Fin-the-news&utm_term=.f476bd586446'\n",
    "text = get_only_washingtpost_url(someUrl)"
   ]
  },
  {
   "cell_type": "code",
   "execution_count": 9,
   "metadata": {
    "collapsed": false
   },
   "outputs": [
    {
     "data": {
      "text/plain": [
       "('‘Game of Thrones’ recap: A return to ‘Dragonstone’ and a question of alliances - The Washington Post',\n",
       " 'The seventh season of HBO\\'s \"Game of Thrones\" will premiere on July 16. (HBO)   Winter is here. The end game is coming. And watching “Game of Thrones” now feels different since we know that there are exactly 14 more episodes after tonight, and that everything must be resolved within that time frame. So when a full minute is spent on the Hound digging a grave for two random people from 20-some episodes ago, you want to yell, “Get on with it! We don’t have much time left!” So let’s just get to it. As always, please read Alyssa Rosenberg’s thoughtful review/analysis of each episode, which hopefully pairs well with this “let’s just try to figure out exactly what happened” recap. Arya Stark’s body count increases exponentially Collect your winnings if you thought Walder Frey would be the first voice to be heard in Season 7, since his throat-slitting at the hands of Arya Stark was one of the final things we saw in Season 6. It became clear pretty quickly that we weren’t watching a flashback, with Frey presiding over a feast of his family members, but the latest in Arya’s face-swapping revenge tour. Once “Walder” went into the specific details of his Red Wedding murders —\\xa0the butchering of a pregnant woman, cutting the throat of a mother of five, slaughtering the guests invited into your home\\xa0— it was apparent this was a murderous monologue and not a pep talk to some dopey soldiers from the Twins.    David Bradley as Walder Frey on “Game of Thrones.” (Helen Sloan/courtesy of HBO)  As the Frey men start to choke on poisoned wine and breathe their final breaths, Arya drops a memorable line on those that are still alive to hear it: “Leave one wolf alive and the sheep are never safe.” Then she peels her face back to reveal her true self before leaving Frey’s child bride with a message for those who ask what went down. “Tell them the North remembers. Tell them winter came for House Frey.” It was one of the most badass moments we’ve seen in the show’s entire run. There is nothing one could possibly do to counteract how cool Arya was in that moment, unless it was something like, I dunno, hearing Ed Sheeran singing a song and being like, “Gee, that’s a pretty song!” Well, damn it, that’s exactly how Arya followed up her mass-murder-by-face-swapping. “Thrones” has a history with musical cameos —\\xa0Coldplay drummer Will Champion in the Red Wedding band that played “The Rains of Castamere,” members of Sigur Ros performing at the Purple Wedding —\\xa0but those cameos didn’t take the viewer completely out of the story in the same way as seeing Ed Sheeran as a random soldier who actually gets a few lines. Anyway, Ed is part of a traveling gang of soldiers who seem nice enough for now. They offer Arya some rabbit and some homemade blackberry wine, and they all share a laugh when Arya tells them she’s on her way to King’s Landing to kill the queen. Jon and Sansa have a tenuous peace After Jon and his soldiers (with a major assist from Sansa and the Knights of the Vale) defeated Ramsay Bolton in the Battle of the Bastards, Jon is getting down to business as the new Lord of Winterfell and the King in the North. He tells his assembled followers to scour for dragonglass, since he knows firsthand it can kill the White Walkers. He also says that it will be all hands on deck —\\xa0men and women, ages 10 to 60, will all be asked to fight. This allows Lyanna Mormont to pipe up with one of her inspirational lines and honestly, her shtick is getting old already.    Bella Ramsey as Lyanna Mormont in “Game of Thrones.” (Helen Sloan/courtesy of HBO)  Tension arises when it comes to dealing with the Houses Umber and Karstark, though. Both houses had most recently been loyal to Ramsay Bolton, and Sansa believes they should be excluded from any new battle plans and be made to pay the price. Jon wants to forgive, both because he needs as many men as possible but also because he doesn’t believe a son should be punished for a father’s sins. (And the representatives of two families present were no more than teenagers, to boot.) As Sansa publicly pushes against Jon, Lord Baelish can be seen doing what he does best and enjoys the most —\\xa0standing in a corner smirking. And surely plotting. Later, Jon and Sansa try to talk out their issues. “You are my sister, but I am King now,” Jon says, telling her that he doesn’t appreciate being undermined. Sansa hits him where it hurts, saying that Joffrey never let anyone question him; does that mean he was a good king? That one stings Jon, but Sansa reassures him that he’s “as far from Joffrey as anyone I’ve ever met.” Sansa just wants Jon to be smarter than her father and brother, who both made stupid mistakes and lost their heads for it. A message comes for them from King’s Landing —\\xa0Queen Cersei demands loyalty, or else Jon will be killed as a traitor. It’s good to be straightforward and efficient with your language because you can only fit so much text on one of those little scrolls a raven has to fly with for a thousand miles. And this brings about another disagreement between Jon and Sansa. Jon would like to put Cersei’s threats on the back burner; he’s most concerned with the Night King and the army of undead that is marching their way. This is understandable. Sansa knows that you can’t just ignore Cersei; if you are her enemy, she will find a way to kill you. So her position, too, is understandable. Never one to bypass a situation he can manipulate, Baelish approaches a slightly frustrated Sansa. He senses that she —\\xa0as the rightful heir to Winterfell, who has endured unspeakable horrors to get back to her home, and who was arguably responsible for Jon’s recent battle victory —\\xa0wants some power. But Sansa’s not in the mood to play Littlefinger’s mind games at this point. She tells him he doesn’t need to get in the last word; she’ll “assume it was something clever.”    Lena Headey as Cersei Lannister in “Game of Thrones.” (Helen Sloan/courtesy of HBO)  Cersei rejects Euron —\\xa0for now In King’s Landing, Cersei and Jaime are dealing with the realities of their situation. Yes, she’s now Queen, after her obliteration of the Sept of Baelor (and all those inside it, including the High Sparrow, Margaery Tyrell and hundreds more) and the ensuing suicide of her son, King Tommen. Cersei knows that Tyrion has been chosen to be Hand of the Queen to Daenerys, and she won’t let Jaime live this down, since it was his sympathy for their brother that led to him escaping his death sentence and murdering Tywin before escaping to faraway lands. Cersei and Jaime seem to be in very different mindsets when it comes to how to proceed. Cersei wants to push forward to vanquish her many enemies; Jaime notes that those enemies surround them on all sides and that Cersei may like to say she’s the Queen of the Seven Kingdoms, but really she has “three at best.” Jaime is still processing the death of Tommen —\\xa0“Our baby boy killed himself,” he pleads with her —\\xa0while Cersei says of her children (all three of them dead now), “I loved them, I did, but they’re ashes now and we’re flesh and blood. We’re Lannisters, the last ones that count.” Maybe there’s a little repression mixed in with the aggression, but it’s also consistent with Cersei’s longstanding desire for absolute power.    Pilou Asbaek as Euron Greyjoy on “Game of Thrones.” (Helen Sloan/courtesy of HBO)  But to get that power, she needs some allies. Enter Euron Greyjoy, the new King of the Iron Islands. This would be an alliance of convenience, as Cersei needs manpower and ships while Euron needs a queen to further solidify his standing. Euron does his best to sweet-talk both Cersei and Jaime as she observers him from the Iron Throne and he stands beside it, even telling Jaime how impressed he was when Jaime slaughtered many of Euron’s men during a battle many years ago. Ultimately, Cersei rejects Euron’s proposal on the grounds that he is not trustworthy, has broken promises in the past and murdered his own brother, not to mention that he’s dressed like an extra in a Sisters of Mercy video. Euron takes the rejection in stride, though. He knows that it will take a priceless gift to win over Cersei, and he won’t return to King’s Landing until he has it. Sam has a really crappy job Samwell Tarly is not really enjoying his time at the Citadel in Old Town. What he thought he’d be doing: reading, saving the world from White Walkers. The reality of what he’s doing: cleaning the chamber pots of old men. It’s a gnarly existence, and on top of that he can’t even get into the restricted area of the library —\\xa0where all the good White Walker secrets are kept —\\xa0because he’s not a Maester yet. It’s so bad for Sam that even when he’s on break from toilet duty, he’s on autopsy duty and left to handle and weigh the organs of dead Citadel dwellers. Sam’s impatience gets the best of him, and one night he steals the key from one of the elders who has access to the restricted area of the library. Sam swipes a few books, and back in his quarters, where Gilly is playing with Little Sam, big Sam discovers that Dragonstone has an entire mountain with a motherlode of dragonglass buried underneath it. There’s always valuable weapons buried or hidden underground all over Westeros, it seems. When Sam is back on his grind collecting dirty dishes from various dorm dwellings, he’s startled when an arm reaches from inside a room and grabs him. It’s an arm infected with greyscale and attached to someone asking the whereabouts of the Dragon Queen. So it’s safe to say that sickly Ser Jorah Mormont has found his way to Old Town.  The Hound sees the Light The Hound is riding through the Riverlands with his new companions, Thoros of Myr and the oft-resurrected Baric Dondarion. These three have history, of course. The Hound killed Dondarion way back in Season 3, but Dondarion was quickly resurrected by Thoros, via the Lord of the Light. (When you see it written out like that, it does make you feel a little ridiculous for watching this show, right?) Anyway, this “Hateful Eight”-lookin’ group need shelter from the snowy night and head to a seemingly abandoned house, despite the Hound’s vocal objections. He objected because he remembered the house as the place inhabited by a farmer and daughter whom the Hound left for dead back after stealing his silver back in Season 4, despite their being nothing but kind to the Hound and his then-traveling-companion Arya. The current traveling group discovers that same father/daughter as a couple of heaps of bones inside, having frozen to death long ago. Is this really a necessary callback? Not really; we already know the Hound has an often-guilty conscience and strives to be a moral man despite his actions. Later that evening, the Hound asks Dondarion what’s so special about him that the Lord of the Light keeps bringing him back from the dead. Dondarion says he has no clue; he only knows that the Lord wants him alive. The Hound does his best Bill Maher impression and asks, “If he’s so all powerful, why doesn’t he just tell you what the f— he wants?” But maybe the Hound will have a change of heart on that line of thinking. Thoros convinces the pryophobic Hound to approach the fire and look into the flames. He’s skeptical at first but eventually sees a vision: Ice. A wall of ice. The Wall. Where the Wall meets the sea. There’s a castle there. There’s a mountain that looks like an arrowhead. The dead are marching past. Thousands of them. Dondarion thinks the Hound is now convinced of their mission. Daenerys makes landfall Dany and her crew —\\xa0led by Tyrion, Varys, Missandei, her army of Unsullied and, of course, three dragons —\\xa0finally get back to Westeros and arrive at the ancestral Targaryen home of Dragonstone. It’s seemingly been completely abandoned since Stannis Baratheon (may he rest in peace, the One True King of Westeros) marched his army to its demise. Dany is moved to be back home, savoring some grains of sand, yanking down Stannis’s banner as she makes her way into the castle. As she walks into the battle strategy room with Tyrion, both surveying their surroundings, Dany finally breaks the silence while standing at the head of the table: “Shall we begin?” We’ve been waiting for her to return to Westeros and begin her conquest of the Seven Kingdoms for years. So yes, let’s begin.    Gwendoline Christie as Brienne of Tarth and Daniel Portman as Podrick on “Game of Thrones.” (Helen Sloan/courtesy of HBO)  A few other things —The White Walker army has a damn giant wight! That’s going to be trouble. —\\xa0Bran and Meera make it to the Wall, where acting Lord Commander Edd let’s them in before staring ominously into the distance. —It’s obviously cold in Winterfell, but Tormund’s lust for Brienne is going to boil over at some point soon. He is positively turned all the way on watching Brienne train Podrick in swordfighting, and eventually give him a good walloping. “You’re a lucky man,” he tells Pod, after he gets beaten down by Brienne. READ MORE An illustrated guide to every death in “Game of Thrones” Who’s going to die next on “Game of Thrones” Season 6 finale recap')"
      ]
     },
     "execution_count": 9,
     "metadata": {},
     "output_type": "execute_result"
    }
   ],
   "source": [
    "text"
   ]
  },
  {
   "cell_type": "code",
   "execution_count": 10,
   "metadata": {
    "collapsed": true
   },
   "outputs": [],
   "source": [
    "fs = FrequencySummarizer()"
   ]
  },
  {
   "cell_type": "code",
   "execution_count": 11,
   "metadata": {
    "collapsed": false
   },
   "outputs": [],
   "source": [
    "summary = fs.summarize(text[1],1)"
   ]
  },
  {
   "cell_type": "code",
   "execution_count": 12,
   "metadata": {
    "collapsed": false
   },
   "outputs": [
    {
     "data": {
      "text/plain": [
       "['Cersei wants to push forward to vanquish her many enemies; Jaime notes that those enemies surround them on all sides and that Cersei may like to say she’s the Queen of the Seven Kingdoms, but really she has “three at best.” Jaime is still processing the death of Tommen —\\xa0“Our baby boy killed himself,” he pleads with her —\\xa0while Cersei says of her children (all three of them dead now), “I loved them, I did, but they’re ashes now and we’re flesh and blood.']"
      ]
     },
     "execution_count": 12,
     "metadata": {},
     "output_type": "execute_result"
    }
   ],
   "source": [
    "summary"
   ]
  },
  {
   "cell_type": "code",
   "execution_count": null,
   "metadata": {
    "collapsed": true
   },
   "outputs": [],
   "source": []
  },
  {
   "cell_type": "code",
   "execution_count": null,
   "metadata": {
    "collapsed": true
   },
   "outputs": [],
   "source": []
  }
 ],
 "metadata": {
  "anaconda-cloud": {},
  "kernelspec": {
   "display_name": "Python [Root]",
   "language": "python",
   "name": "Python [Root]"
  },
  "language_info": {
   "codemirror_mode": {
    "name": "ipython",
    "version": 3
   },
   "file_extension": ".py",
   "mimetype": "text/x-python",
   "name": "python",
   "nbconvert_exporter": "python",
   "pygments_lexer": "ipython3",
   "version": "3.5.2"
  }
 },
 "nbformat": 4,
 "nbformat_minor": 0
}
